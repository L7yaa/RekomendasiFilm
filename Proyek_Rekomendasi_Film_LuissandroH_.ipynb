{
  "nbformat": 4,
  "nbformat_minor": 0,
  "metadata": {
    "colab": {
      "provenance": [],
      "gpuType": "T4"
    },
    "kernelspec": {
      "name": "python3",
      "display_name": "Python 3"
    },
    "language_info": {
      "name": "python"
    },
    "accelerator": "GPU"
  },
  "cells": [
    {
      "cell_type": "markdown",
      "source": [
        "# **1. Perkenalan Dataset**\n"
      ],
      "metadata": {
        "id": "kZLRMFl0JyyQ"
      }
    },
    {
      "cell_type": "markdown",
      "source": [
        "Dataset: https://www.kaggle.com/datasets/parasharmanas/movie-recommendation-system\n",
        "\n",
        "Dataset Rekomendasi Film yang diunggah oleh Parasharmanas di Kaggle berisi informasi tentang berbagai film serta rating yang diberikan oleh pengguna. Dataset ini biasanya digunakan untuk membangun sistem rekomendasi berbasis konten yang berfokus pada genre, deskripsi, dan fitur lainnya untuk memberikan rekomendasi film kepada pengguna.\n",
        "\n",
        "\n",
        "Dataset ini terdiri dari dua file CSV utama:\n",
        "\n",
        "- movies.csv: Berisi informasi tentang film, termasuk:\n",
        "\n",
        "        movieId: ID unik untuk setiap film.\n",
        "\n",
        "        title: Nama film.\n",
        "\n",
        "        genres: Genre film, yang dapat terdiri dari beberapa kategori, misalnya \"Action\", \"Comedy\", \"Drama\", dll.\n",
        "\n",
        "- ratings.csv: Berisi rating yang diberikan oleh pengguna terhadap film, dengan kolom-kolom berikut:\n",
        "\n",
        "        userId: ID unik untuk setiap pengguna.\n",
        "\n",
        "        movieId: ID film yang diberikan rating.\n",
        "\n",
        "        rating: Rating yang diberikan oleh pengguna pada skala 1 hingga 5.\n",
        "\n",
        "        timestamp: Waktu saat rating diberikan.\n",
        "\n",
        "\n"
      ],
      "metadata": {
        "id": "hssSDn-5n3HR"
      }
    },
    {
      "cell_type": "markdown",
      "source": [
        "# **2. Import Library**"
      ],
      "metadata": {
        "id": "fKADPWcFKlj3"
      }
    },
    {
      "cell_type": "markdown",
      "source": [
        "Pada tahap ini, Anda perlu mengimpor beberapa pustaka (library) Python yang dibutuhkan untuk analisis data dan pembangunan model machine learning."
      ],
      "metadata": {
        "id": "LgA3ERnVn84N"
      }
    },
    {
      "cell_type": "code",
      "source": [
        "import pandas as pd\n",
        "import os\n",
        "import zipfile\n",
        "import numpy as np\n",
        "import matplotlib.pyplot as plt\n",
        "import seaborn as sns\n",
        "!pip install -q kaggle\n",
        "from google.colab import files\n",
        "from sklearn.model_selection import train_test_split\n",
        "import tensorflow as tf\n",
        "from tensorflow import keras\n",
        "from tensorflow.keras import layers\n",
        "from tensorflow.keras.callbacks import EarlyStopping, ModelCheckpoint, ReduceLROnPlateau\n",
        "from sklearn.feature_extraction.text import TfidfVectorizer\n",
        "from sklearn.pipeline import Pipeline\n",
        "from sklearn.linear_model import LogisticRegression\n",
        "from sklearn.metrics import accuracy_score, classification_report\n",
        "from tensorflow.keras.models import Model\n",
        "from tensorflow.keras.layers import Embedding, Input, Dot, Flatten, Dense\n",
        "from tensorflow.keras.optimizers import Adam\n",
        "import random\n",
        "from tensorflow.keras.regularizers import l2\n",
        "from tensorflow.keras.layers import Embedding, Dense, Dot, Flatten, Dropout, BatchNormalization\n",
        "from tensorflow.keras.layers import Concatenate, Input\n",
        "from sklearn.metrics.pairwise import cosine_similarity\n",
        "from sklearn.metrics.pairwise import linear_kernel\n",
        "from sklearn.feature_extraction.text import TfidfVectorizer"
      ],
      "metadata": {
        "id": "BlmvjLY9M4Yj"
      },
      "execution_count": 1,
      "outputs": []
    },
    {
      "cell_type": "markdown",
      "source": [
        "# **3. Memuat Dataset**"
      ],
      "metadata": {
        "id": "f3YIEnAFKrKL"
      }
    },
    {
      "cell_type": "markdown",
      "source": [
        "Untuk memuat dataset Anda menggunakan pustaka pandas sesuai dengan dataset yang telah Anda unduh dari Kaggle, Anda hanya perlu memeriksa beberapa baris pertama untuk memastikan bahwa data telah dimuat dengan benar. Anda sudah memuat dataset menggunakan pd.read_csv() di tahap sebelumnya, jadi Anda hanya perlu memeriksa beberapa baris pertama dari data."
      ],
      "metadata": {
        "id": "Ey3ItwTen_7E"
      }
    },
    {
      "cell_type": "markdown",
      "source": [
        "Mengunggah file ke dalam Notebook colab. Pada Proyek ini menggunakan file Kaggle.json untuk otentikasi dataset yang bersumber dari kaggle"
      ],
      "metadata": {
        "id": "SbvflQFO5fxr"
      }
    },
    {
      "cell_type": "code",
      "source": [
        "uploaded = files.upload()"
      ],
      "metadata": {
        "colab": {
          "base_uri": "https://localhost:8080/",
          "height": 71
        },
        "id": "Re2CXb1WuWUU",
        "outputId": "566e2066-c048-4aaf-919d-caced1dda637"
      },
      "execution_count": 2,
      "outputs": [
        {
          "output_type": "display_data",
          "data": {
            "text/plain": [
              "<IPython.core.display.HTML object>"
            ],
            "text/html": [
              "\n",
              "     <input type=\"file\" id=\"files-0ec4e768-a881-4bab-8206-ee533c0dbe64\" name=\"files[]\" multiple disabled\n",
              "        style=\"border:none\" />\n",
              "     <output id=\"result-0ec4e768-a881-4bab-8206-ee533c0dbe64\">\n",
              "      Upload widget is only available when the cell has been executed in the\n",
              "      current browser session. Please rerun this cell to enable.\n",
              "      </output>\n",
              "      <script>// Copyright 2017 Google LLC\n",
              "//\n",
              "// Licensed under the Apache License, Version 2.0 (the \"License\");\n",
              "// you may not use this file except in compliance with the License.\n",
              "// You may obtain a copy of the License at\n",
              "//\n",
              "//      http://www.apache.org/licenses/LICENSE-2.0\n",
              "//\n",
              "// Unless required by applicable law or agreed to in writing, software\n",
              "// distributed under the License is distributed on an \"AS IS\" BASIS,\n",
              "// WITHOUT WARRANTIES OR CONDITIONS OF ANY KIND, either express or implied.\n",
              "// See the License for the specific language governing permissions and\n",
              "// limitations under the License.\n",
              "\n",
              "/**\n",
              " * @fileoverview Helpers for google.colab Python module.\n",
              " */\n",
              "(function(scope) {\n",
              "function span(text, styleAttributes = {}) {\n",
              "  const element = document.createElement('span');\n",
              "  element.textContent = text;\n",
              "  for (const key of Object.keys(styleAttributes)) {\n",
              "    element.style[key] = styleAttributes[key];\n",
              "  }\n",
              "  return element;\n",
              "}\n",
              "\n",
              "// Max number of bytes which will be uploaded at a time.\n",
              "const MAX_PAYLOAD_SIZE = 100 * 1024;\n",
              "\n",
              "function _uploadFiles(inputId, outputId) {\n",
              "  const steps = uploadFilesStep(inputId, outputId);\n",
              "  const outputElement = document.getElementById(outputId);\n",
              "  // Cache steps on the outputElement to make it available for the next call\n",
              "  // to uploadFilesContinue from Python.\n",
              "  outputElement.steps = steps;\n",
              "\n",
              "  return _uploadFilesContinue(outputId);\n",
              "}\n",
              "\n",
              "// This is roughly an async generator (not supported in the browser yet),\n",
              "// where there are multiple asynchronous steps and the Python side is going\n",
              "// to poll for completion of each step.\n",
              "// This uses a Promise to block the python side on completion of each step,\n",
              "// then passes the result of the previous step as the input to the next step.\n",
              "function _uploadFilesContinue(outputId) {\n",
              "  const outputElement = document.getElementById(outputId);\n",
              "  const steps = outputElement.steps;\n",
              "\n",
              "  const next = steps.next(outputElement.lastPromiseValue);\n",
              "  return Promise.resolve(next.value.promise).then((value) => {\n",
              "    // Cache the last promise value to make it available to the next\n",
              "    // step of the generator.\n",
              "    outputElement.lastPromiseValue = value;\n",
              "    return next.value.response;\n",
              "  });\n",
              "}\n",
              "\n",
              "/**\n",
              " * Generator function which is called between each async step of the upload\n",
              " * process.\n",
              " * @param {string} inputId Element ID of the input file picker element.\n",
              " * @param {string} outputId Element ID of the output display.\n",
              " * @return {!Iterable<!Object>} Iterable of next steps.\n",
              " */\n",
              "function* uploadFilesStep(inputId, outputId) {\n",
              "  const inputElement = document.getElementById(inputId);\n",
              "  inputElement.disabled = false;\n",
              "\n",
              "  const outputElement = document.getElementById(outputId);\n",
              "  outputElement.innerHTML = '';\n",
              "\n",
              "  const pickedPromise = new Promise((resolve) => {\n",
              "    inputElement.addEventListener('change', (e) => {\n",
              "      resolve(e.target.files);\n",
              "    });\n",
              "  });\n",
              "\n",
              "  const cancel = document.createElement('button');\n",
              "  inputElement.parentElement.appendChild(cancel);\n",
              "  cancel.textContent = 'Cancel upload';\n",
              "  const cancelPromise = new Promise((resolve) => {\n",
              "    cancel.onclick = () => {\n",
              "      resolve(null);\n",
              "    };\n",
              "  });\n",
              "\n",
              "  // Wait for the user to pick the files.\n",
              "  const files = yield {\n",
              "    promise: Promise.race([pickedPromise, cancelPromise]),\n",
              "    response: {\n",
              "      action: 'starting',\n",
              "    }\n",
              "  };\n",
              "\n",
              "  cancel.remove();\n",
              "\n",
              "  // Disable the input element since further picks are not allowed.\n",
              "  inputElement.disabled = true;\n",
              "\n",
              "  if (!files) {\n",
              "    return {\n",
              "      response: {\n",
              "        action: 'complete',\n",
              "      }\n",
              "    };\n",
              "  }\n",
              "\n",
              "  for (const file of files) {\n",
              "    const li = document.createElement('li');\n",
              "    li.append(span(file.name, {fontWeight: 'bold'}));\n",
              "    li.append(span(\n",
              "        `(${file.type || 'n/a'}) - ${file.size} bytes, ` +\n",
              "        `last modified: ${\n",
              "            file.lastModifiedDate ? file.lastModifiedDate.toLocaleDateString() :\n",
              "                                    'n/a'} - `));\n",
              "    const percent = span('0% done');\n",
              "    li.appendChild(percent);\n",
              "\n",
              "    outputElement.appendChild(li);\n",
              "\n",
              "    const fileDataPromise = new Promise((resolve) => {\n",
              "      const reader = new FileReader();\n",
              "      reader.onload = (e) => {\n",
              "        resolve(e.target.result);\n",
              "      };\n",
              "      reader.readAsArrayBuffer(file);\n",
              "    });\n",
              "    // Wait for the data to be ready.\n",
              "    let fileData = yield {\n",
              "      promise: fileDataPromise,\n",
              "      response: {\n",
              "        action: 'continue',\n",
              "      }\n",
              "    };\n",
              "\n",
              "    // Use a chunked sending to avoid message size limits. See b/62115660.\n",
              "    let position = 0;\n",
              "    do {\n",
              "      const length = Math.min(fileData.byteLength - position, MAX_PAYLOAD_SIZE);\n",
              "      const chunk = new Uint8Array(fileData, position, length);\n",
              "      position += length;\n",
              "\n",
              "      const base64 = btoa(String.fromCharCode.apply(null, chunk));\n",
              "      yield {\n",
              "        response: {\n",
              "          action: 'append',\n",
              "          file: file.name,\n",
              "          data: base64,\n",
              "        },\n",
              "      };\n",
              "\n",
              "      let percentDone = fileData.byteLength === 0 ?\n",
              "          100 :\n",
              "          Math.round((position / fileData.byteLength) * 100);\n",
              "      percent.textContent = `${percentDone}% done`;\n",
              "\n",
              "    } while (position < fileData.byteLength);\n",
              "  }\n",
              "\n",
              "  // All done.\n",
              "  yield {\n",
              "    response: {\n",
              "      action: 'complete',\n",
              "    }\n",
              "  };\n",
              "}\n",
              "\n",
              "scope.google = scope.google || {};\n",
              "scope.google.colab = scope.google.colab || {};\n",
              "scope.google.colab._files = {\n",
              "  _uploadFiles,\n",
              "  _uploadFilesContinue,\n",
              "};\n",
              "})(self);\n",
              "</script> "
            ]
          },
          "metadata": {}
        },
        {
          "output_type": "stream",
          "name": "stdout",
          "text": [
            "Saving kaggle.json to kaggle.json\n"
          ]
        }
      ]
    },
    {
      "cell_type": "markdown",
      "source": [
        "mengonfigurasi Kaggle API untuk mengakses dataset dari Kaggle menggunakan file kredensial yang telah diunggah."
      ],
      "metadata": {
        "id": "mrEL7IZO6OkL"
      }
    },
    {
      "cell_type": "code",
      "source": [
        "os.makedirs(os.path.expanduser('~/.kaggle'), exist_ok=True)\n",
        "os.rename('kaggle.json', os.path.expanduser('~/.kaggle/kaggle.json'))\n",
        "!chmod 600 ~/.kaggle/kaggle.json\n"
      ],
      "metadata": {
        "id": "UMGmMUqDuWWr"
      },
      "execution_count": 3,
      "outputs": []
    },
    {
      "cell_type": "markdown",
      "source": [
        "mengunduh file ZIP yang berisi dataset Movie Recommendation System ke direktori."
      ],
      "metadata": {
        "id": "8iNx1Pk86ba2"
      }
    },
    {
      "cell_type": "code",
      "source": [
        "!kaggle datasets download -d parasharmanas/movie-recommendation-system"
      ],
      "metadata": {
        "id": "ytE4OL8BuaeV",
        "colab": {
          "base_uri": "https://localhost:8080/"
        },
        "outputId": "a1a4ad5b-474e-41df-a196-0795de4e769a"
      },
      "execution_count": 4,
      "outputs": [
        {
          "output_type": "stream",
          "name": "stdout",
          "text": [
            "Dataset URL: https://www.kaggle.com/datasets/parasharmanas/movie-recommendation-system\n",
            "License(s): ODbL-1.0\n",
            "Downloading movie-recommendation-system.zip to /content\n",
            " 76% 126M/165M [00:00<00:00, 379MB/s] \n",
            "100% 165M/165M [00:00<00:00, 381MB/s]\n"
          ]
        }
      ]
    },
    {
      "cell_type": "markdown",
      "source": [
        "mengekstrak file ZIP yang telah diunduh dari Kaggle ke direktori tertentu di Google Colab"
      ],
      "metadata": {
        "id": "vBYHZLpC6j_4"
      }
    },
    {
      "cell_type": "code",
      "source": [
        "!unzip -q movie-recommendation-system.zip -d /content/movie-recommendation-system"
      ],
      "metadata": {
        "id": "m19yxFToub6S"
      },
      "execution_count": 5,
      "outputs": []
    },
    {
      "cell_type": "markdown",
      "source": [
        " menampilkan daftar file yang ada di dalam folder /content/movie-recommendation-system, untuk memverifikasi file apa saja yang telah berhasil diekstrak dari file ZIP."
      ],
      "metadata": {
        "id": "noA5SLZ06mgd"
      }
    },
    {
      "cell_type": "code",
      "source": [
        "extracted_dir = \"/content/movie-recommendation-system\"\n",
        "print(\"Isi direktori dataset:\")\n",
        "print(os.listdir(extracted_dir))"
      ],
      "metadata": {
        "id": "cr_fzQoAueR8",
        "colab": {
          "base_uri": "https://localhost:8080/"
        },
        "outputId": "95989ee8-e42d-4268-f45f-d71cc07339cd"
      },
      "execution_count": 6,
      "outputs": [
        {
          "output_type": "stream",
          "name": "stdout",
          "text": [
            "Isi direktori dataset:\n",
            "['movies.csv', 'ratings.csv']\n"
          ]
        }
      ]
    },
    {
      "cell_type": "markdown",
      "source": [
        " menyimpan lokasi file dalam dua variabel berbeda, yaitu movies_path untuk file film dan ratings_path untuk file rating dan kedua variabel ini akan digunakan untuk memuat data ke dalam DataFrame.\n",
        "\n",
        " insight: Menetapkan path untuk file CSV yang berisi data film dan data rating."
      ],
      "metadata": {
        "id": "QwnFHE2u6zhL"
      }
    },
    {
      "cell_type": "code",
      "source": [
        "movies_path = '/content/movie-recommendation-system/movies.csv'\n",
        "ratings_path = '/content/movie-recommendation-system/ratings.csv'"
      ],
      "metadata": {
        "id": "bLcnG3ksE-ZH"
      },
      "execution_count": 7,
      "outputs": []
    },
    {
      "cell_type": "markdown",
      "source": [
        "- movies_df berisi data tentang film\n",
        "- ratings_df berisi data tentang rating yang diberikan pengguna kepada film-film tertentu\n",
        "\n",
        "\n",
        "insight: Memuat file CSV untuk data film dan rating ke dalam dua DataFrame terpisah"
      ],
      "metadata": {
        "id": "qkzFjdjOH1uY"
      }
    },
    {
      "cell_type": "code",
      "source": [
        "movies_df = pd.read_csv(movies_path)\n",
        "ratings_df = pd.read_csv(ratings_path)"
      ],
      "metadata": {
        "id": "eqzZCHZ2GK3y"
      },
      "execution_count": 8,
      "outputs": []
    },
    {
      "cell_type": "markdown",
      "source": [
        "Mengambil hanya 10.000 baris pertama dari data\n",
        "\n",
        "insight: Dilakukan untuk mengurangi ukuran data agar lebih mudah diproses."
      ],
      "metadata": {
        "id": "nLu9MR8oTSJ5"
      }
    },
    {
      "cell_type": "code",
      "source": [
        "movies_slice = movies_df.head(10000)\n",
        "ratings_slice = ratings_df.head(10000)"
      ],
      "metadata": {
        "id": "e9-hfvqETSSo"
      },
      "execution_count": 9,
      "outputs": []
    },
    {
      "cell_type": "markdown",
      "source": [
        "Menyimpan hasilnya ke file CSV\n",
        "\n",
        "insight: Menyimpan data yang telah dipotong ke dalam csv"
      ],
      "metadata": {
        "id": "6466ZygvUG_5"
      }
    },
    {
      "cell_type": "code",
      "source": [
        "movies_slice.to_csv(\"movies_slice.csv\", index=False)\n",
        "ratings_slice.to_csv(\"ratings_slice.csv\", index=False)"
      ],
      "metadata": {
        "id": "ZA2rY7tmUHEj"
      },
      "execution_count": 10,
      "outputs": []
    },
    {
      "cell_type": "markdown",
      "source": [
        "dataset yang sudah dislicing\n",
        "\n",
        "insight: Memuat kembali file CSV yang telah disimpan memastikan bahwa proses pemotongan dan penyimpanan berjalan dengan baik dan data siap untuk digunakan lebih lanjut."
      ],
      "metadata": {
        "id": "OPRqB-9EVRjC"
      }
    },
    {
      "cell_type": "code",
      "source": [
        "movies_df = pd.read_csv(\"movies_slice.csv\")\n",
        "ratings_df = pd.read_csv(\"ratings_slice.csv\")"
      ],
      "metadata": {
        "id": "xli_kegsVQ2p"
      },
      "execution_count": 11,
      "outputs": []
    },
    {
      "cell_type": "markdown",
      "source": [
        "# **4. Data Understanding**"
      ],
      "metadata": {
        "id": "9ZmwEq16ssP4"
      }
    },
    {
      "cell_type": "markdown",
      "source": [
        "Menampilkan jumlah data pada masing-masing dataset\n",
        "\n",
        "insight: Hasil yang ditampilkan adalah jumlah total data untuk film dan rating, serta jumlah total keseluruhan dari kedua dataset tersebut."
      ],
      "metadata": {
        "id": "9GpZgEqSgTGa"
      }
    },
    {
      "cell_type": "code",
      "source": [
        "print(f\"Jumlah data movie: {len(movies_df)}\")\n",
        "print(f\"Jumlah data rating: {len(ratings_df)}\")\n",
        "print(f\"Total data: {len(movies_df) + len(ratings_df)}\")"
      ],
      "metadata": {
        "id": "M_ffyH4_D1Zx",
        "colab": {
          "base_uri": "https://localhost:8080/"
        },
        "outputId": "11bd05bd-b87a-4150-f1d1-37edc669dae7"
      },
      "execution_count": 12,
      "outputs": [
        {
          "output_type": "stream",
          "name": "stdout",
          "text": [
            "Jumlah data movie: 10000\n",
            "Jumlah data rating: 10000\n",
            "Total data: 20000\n"
          ]
        }
      ]
    },
    {
      "cell_type": "markdown",
      "source": [
        "- Menampilkan contoh data movie\n",
        "- Menampilkan contoh data rating\n",
        "\n",
        "insight: menampilkan 5 baris pertama dari data film dan rating"
      ],
      "metadata": {
        "id": "Up0PstPagVx-"
      }
    },
    {
      "cell_type": "code",
      "source": [
        "print(\"\\nContoh data movie:\")\n",
        "print(movies_df.head())\n",
        "print(\"\\nContoh data rating:\")\n",
        "print(ratings_df.head())"
      ],
      "metadata": {
        "id": "mO4xJO7cFDMH",
        "colab": {
          "base_uri": "https://localhost:8080/"
        },
        "outputId": "5a87e53d-6ca2-4033-f9c7-3de78a3b4821"
      },
      "execution_count": 13,
      "outputs": [
        {
          "output_type": "stream",
          "name": "stdout",
          "text": [
            "\n",
            "Contoh data movie:\n",
            "   movieId                               title  \\\n",
            "0        1                    Toy Story (1995)   \n",
            "1        2                      Jumanji (1995)   \n",
            "2        3             Grumpier Old Men (1995)   \n",
            "3        4            Waiting to Exhale (1995)   \n",
            "4        5  Father of the Bride Part II (1995)   \n",
            "\n",
            "                                        genres  \n",
            "0  Adventure|Animation|Children|Comedy|Fantasy  \n",
            "1                   Adventure|Children|Fantasy  \n",
            "2                               Comedy|Romance  \n",
            "3                         Comedy|Drama|Romance  \n",
            "4                                       Comedy  \n",
            "\n",
            "Contoh data rating:\n",
            "   userId  movieId  rating   timestamp\n",
            "0       1      296     5.0  1147880044\n",
            "1       1      306     3.5  1147868817\n",
            "2       1      307     5.0  1147868828\n",
            "3       1      665     5.0  1147878820\n",
            "4       1      899     3.5  1147868510\n"
          ]
        }
      ]
    },
    {
      "cell_type": "markdown",
      "source": [
        "- Menampilkan info struktur data movie\n",
        "- Menampilkan info struktur data rating\n",
        "\n",
        "insight: Dataset movies_df terdiri dari 10.000 film, dengan kolom movieId, title, dan genres. Kolom title dan genres berisi tipe data objek (teks), sementara movieId adalah angka. Dataset ratings_df terdiri dari 10.000 rating dengan kolom userId, movieId, rating, dan timestamp, yang semuanya bertipe numerik."
      ],
      "metadata": {
        "id": "_ejdc_mJgYVV"
      }
    },
    {
      "cell_type": "code",
      "source": [
        "print(\"\\nInfo struktur data movie:\")\n",
        "print(movies_df.info())\n",
        "print(\"\\nInfo struktur data rating:\")\n",
        "print(ratings_df.info())"
      ],
      "metadata": {
        "id": "y7gbcP7ED1c4",
        "colab": {
          "base_uri": "https://localhost:8080/"
        },
        "outputId": "88c8ceb0-1a48-42b3-9feb-e1acfca07e69"
      },
      "execution_count": 14,
      "outputs": [
        {
          "output_type": "stream",
          "name": "stdout",
          "text": [
            "\n",
            "Info struktur data movie:\n",
            "<class 'pandas.core.frame.DataFrame'>\n",
            "RangeIndex: 10000 entries, 0 to 9999\n",
            "Data columns (total 3 columns):\n",
            " #   Column   Non-Null Count  Dtype \n",
            "---  ------   --------------  ----- \n",
            " 0   movieId  10000 non-null  int64 \n",
            " 1   title    10000 non-null  object\n",
            " 2   genres   10000 non-null  object\n",
            "dtypes: int64(1), object(2)\n",
            "memory usage: 234.5+ KB\n",
            "None\n",
            "\n",
            "Info struktur data rating:\n",
            "<class 'pandas.core.frame.DataFrame'>\n",
            "RangeIndex: 10000 entries, 0 to 9999\n",
            "Data columns (total 4 columns):\n",
            " #   Column     Non-Null Count  Dtype  \n",
            "---  ------     --------------  -----  \n",
            " 0   userId     10000 non-null  int64  \n",
            " 1   movieId    10000 non-null  int64  \n",
            " 2   rating     10000 non-null  float64\n",
            " 3   timestamp  10000 non-null  int64  \n",
            "dtypes: float64(1), int64(3)\n",
            "memory usage: 312.6 KB\n",
            "None\n"
          ]
        }
      ]
    },
    {
      "cell_type": "markdown",
      "source": [
        "- Menampilkan statistik deskriptif data movie\n",
        "- Menampilkan statistik deskriptif data rating\n",
        "\n",
        "insight: Menampilkan statistik deskriptif yang memberikan informasi tentang jumlah data film dan statistik untuk kolom movieId. Kolom title tidak memiliki statistik numerik karena berisi teks. Menampilkan statistik deskriptif untuk kolom rating, memberikan gambaran tentang distribusi nilai rating, serta nilai minimum, maksimum, dan rata-rata rating."
      ],
      "metadata": {
        "id": "QXR8LSx9gb-3"
      }
    },
    {
      "cell_type": "code",
      "source": [
        "print(\"\\nStatistik deskriptif data movie:\")\n",
        "print(movies_df.describe(include='all'))\n",
        "print(\"\\nStatistik deskriptif data rating:\")\n",
        "print(ratings_df.describe(include='all'))"
      ],
      "metadata": {
        "id": "IoU7lobUD1fi",
        "colab": {
          "base_uri": "https://localhost:8080/"
        },
        "outputId": "12e94e44-feed-4178-b29d-f4469cb0edc7"
      },
      "execution_count": 15,
      "outputs": [
        {
          "output_type": "stream",
          "name": "stdout",
          "text": [
            "\n",
            "Statistik deskriptif data movie:\n",
            "             movieId                 title genres\n",
            "count   10000.000000                 10000  10000\n",
            "unique           NaN                  9999    780\n",
            "top              NaN  Men with Guns (1997)  Drama\n",
            "freq             NaN                     2   1703\n",
            "mean     8410.744200                   NaN    NaN\n",
            "std      9461.921046                   NaN    NaN\n",
            "min         1.000000                   NaN    NaN\n",
            "25%      2590.750000                   NaN    NaN\n",
            "50%      5105.500000                   NaN    NaN\n",
            "75%      7873.500000                   NaN    NaN\n",
            "max     33779.000000                   NaN    NaN\n",
            "\n",
            "Statistik deskriptif data rating:\n",
            "             userId        movieId        rating     timestamp\n",
            "count  10000.000000   10000.000000  10000.000000  1.000000e+04\n",
            "mean      35.504400   16481.889300      3.599400  1.179452e+09\n",
            "std       23.782269   31968.753804      1.005321  2.113199e+08\n",
            "min        1.000000       1.000000      0.500000  8.307862e+08\n",
            "25%       13.000000    1073.000000      3.000000  9.806502e+08\n",
            "50%       33.000000    2571.000000      4.000000  1.167743e+09\n",
            "75%       59.000000    6934.500000      4.000000  1.349690e+09\n",
            "max       75.000000  203519.000000      5.000000  1.574195e+09\n"
          ]
        }
      ]
    },
    {
      "cell_type": "markdown",
      "source": [
        "# **5. Univariate Exploratory Data Analysis**"
      ],
      "metadata": {
        "id": "5w-mq-H07N2n"
      }
    },
    {
      "cell_type": "markdown",
      "source": [
        "Eksplorasi Judul Film sering muncul\n",
        "\n",
        "insight: Dataset memiliki 2 judul film unik. Film dengan judul paling sering muncul adalah \"Men with Guns (1997)\" yang muncul 2 kali, sementara judul lainnya hanya muncul sekali. Hasil ini menunjukkan bahwa ada duplikasi atau pengulangan pada beberapa film dalam dataset."
      ],
      "metadata": {
        "id": "vJNnOPVjMDzP"
      }
    },
    {
      "cell_type": "code",
      "source": [
        "print(\"\\n--- Eksplorasi variabel 'Title' ---\")\n",
        "title_counts = movies_df['title'].value_counts()\n",
        "print(f\"Jumlah unik judul film: {title_counts.nunique()}\")\n",
        "print(f\"Contoh 5 judul film yang paling sering muncul: {title_counts.head(5)}\")"
      ],
      "metadata": {
        "id": "lKbQZbrFMBOd",
        "colab": {
          "base_uri": "https://localhost:8080/"
        },
        "outputId": "08ad807d-83bc-483c-ab18-d753e79ae869"
      },
      "execution_count": 16,
      "outputs": [
        {
          "output_type": "stream",
          "name": "stdout",
          "text": [
            "\n",
            "--- Eksplorasi variabel 'Title' ---\n",
            "Jumlah unik judul film: 2\n",
            "Contoh 5 judul film yang paling sering muncul: title\n",
            "Men with Guns (1997)                               2\n",
            "Rules of the Game, The (La règle du jeu) (1939)    1\n",
            "Song Remains the Same, The (1976)                  1\n",
            "Seven Brides for Seven Brothers (1954)             1\n",
            "Kiss of the Spider Woman (1985)                    1\n",
            "Name: count, dtype: int64\n"
          ]
        }
      ]
    },
    {
      "cell_type": "markdown",
      "source": [
        "Eksplorasi Variabel Genre Film sering muncul\n",
        "\n",
        "insight: Terdapat 19 genre film unik dalam dataset. Genre yang paling sering muncul adalah \"Drama\" dengan 5057 kemunculan, diikuti oleh genre lainnya seperti \"Comedy\", \"Romance\", dan \"Thriller\". Ini memberikan gambaran bahwa genre \"Drama\" lebih dominan dalam dataset dibandingkan genre lainnya."
      ],
      "metadata": {
        "id": "xx_Yx7caMw3A"
      }
    },
    {
      "cell_type": "code",
      "source": [
        "print(\"\\n Eksplorasi variabel 'Genre'\")\n",
        "genre_counts = movies_df['genres'].str.split('|', expand=True).stack().value_counts()\n",
        "print(f\"Jumlah unik genre film: {genre_counts.nunique()}\")\n",
        "print(f\"5 genre film yang paling banyak muncul: {genre_counts.head(5)}\")"
      ],
      "metadata": {
        "id": "QOtL6L-qMiEL",
        "colab": {
          "base_uri": "https://localhost:8080/"
        },
        "outputId": "3d074a71-b882-4b93-92a7-d97de89cb624"
      },
      "execution_count": 17,
      "outputs": [
        {
          "output_type": "stream",
          "name": "stdout",
          "text": [
            "\n",
            " Eksplorasi variabel 'Genre'\n",
            "Jumlah unik genre film: 19\n",
            "5 genre film yang paling banyak muncul: Drama       5057\n",
            "Comedy      3464\n",
            "Romance     1689\n",
            "Thriller    1579\n",
            "Action      1358\n",
            "Name: count, dtype: int64\n"
          ]
        }
      ]
    },
    {
      "cell_type": "markdown",
      "source": [
        "Eksplorasi Variabel Rating dari user\n",
        "\n",
        "insight: Statistik deskriptif untuk rating menunjukkan bahwa dataset memiliki 10.000 rating dengan nilai rata-rata 3.59 dan standar deviasi 1.06. Nilai rating terendah adalah 0.5, sementara yang tertinggi adalah 5.0. Terdapat 10 nilai unik dalam rating yang digunakan, yang menunjukkan bahwa rating dibatasi pada angka-angka tertentu (mungkin 0.5 hingga 5.0)."
      ],
      "metadata": {
        "id": "fTgxdLEEM3a7"
      }
    },
    {
      "cell_type": "code",
      "source": [
        "print(\"\\n Eksplorasi variabel 'Rating'\")\n",
        "rating_stats = ratings_df['rating'].describe()\n",
        "print(\"Statistik deskriptif dari rating:\")\n",
        "print(rating_stats)\n",
        "print(f\"Jumlah nilai unik pada rating: {ratings_df['rating'].nunique()}\")\n",
        "print(f\"Rating terendah: {ratings_df['rating'].min()}\")\n",
        "print(f\"Rating tertinggi: {ratings_df['rating'].max()}\")"
      ],
      "metadata": {
        "id": "JzjH_ccfM1I1",
        "colab": {
          "base_uri": "https://localhost:8080/"
        },
        "outputId": "cbac878f-e448-4c3e-e855-7e4a61f19722"
      },
      "execution_count": 18,
      "outputs": [
        {
          "output_type": "stream",
          "name": "stdout",
          "text": [
            "\n",
            " Eksplorasi variabel 'Rating'\n",
            "Statistik deskriptif dari rating:\n",
            "count    10000.000000\n",
            "mean         3.599400\n",
            "std          1.005321\n",
            "min          0.500000\n",
            "25%          3.000000\n",
            "50%          4.000000\n",
            "75%          4.000000\n",
            "max          5.000000\n",
            "Name: rating, dtype: float64\n",
            "Jumlah nilai unik pada rating: 10\n",
            "Rating terendah: 0.5\n",
            "Rating tertinggi: 5.0\n"
          ]
        }
      ]
    },
    {
      "cell_type": "markdown",
      "source": [
        "Eksplorasi distribusi rating per film\n",
        "\n",
        "insight: Dataset ini terdiri dari 3.287 film yang memiliki rating. Rata-rata rating per film adalah 3.41, dengan standar deviasi 0.88. Rating per film bervariasi, dengan rating terendah adalah 0.5 dan tertinggi adalah 5.0. Statistik ini memberikan gambaran bahwa meskipun ada banyak film dengan rating, distribusi rating per film menunjukkan adanya variasi dalam penerimaan film oleh pengguna."
      ],
      "metadata": {
        "id": "G-0mRKVmNBCv"
      }
    },
    {
      "cell_type": "code",
      "source": [
        "print(\"\\n--- Eksplorasi rating per film ---\")\n",
        "average_rating_per_movie = ratings_df.groupby('movieId')['rating'].mean()\n",
        "print(f\"Jumlah film yang memiliki rating: {average_rating_per_movie.count()}\")\n",
        "print(f\"Rata-rata rating per film:\\n{average_rating_per_movie.describe()}\")"
      ],
      "metadata": {
        "id": "3QkdJ20uNAhb",
        "colab": {
          "base_uri": "https://localhost:8080/"
        },
        "outputId": "1bea7c15-ecc1-4df1-9ea4-83705af66b09"
      },
      "execution_count": 19,
      "outputs": [
        {
          "output_type": "stream",
          "name": "stdout",
          "text": [
            "\n",
            "--- Eksplorasi rating per film ---\n",
            "Jumlah film yang memiliki rating: 3287\n",
            "Rata-rata rating per film:\n",
            "count    3287.000000\n",
            "mean        3.418694\n",
            "std         0.877573\n",
            "min         0.500000\n",
            "25%         3.000000\n",
            "50%         3.500000\n",
            "75%         4.000000\n",
            "max         5.000000\n",
            "Name: rating, dtype: float64\n"
          ]
        }
      ]
    },
    {
      "cell_type": "markdown",
      "source": [
        "Eksplorasi rating berdasarkan user\n",
        "\n",
        "insight:  distribusi rating per pengguna menunjukkan adanya beberapa pengguna yang sangat aktif dalam memberikan rating, sementara yang lainnya hanya memberikan beberapa rating."
      ],
      "metadata": {
        "id": "YeY3pX5RNEAD"
      }
    },
    {
      "cell_type": "code",
      "source": [
        "print(\"\\n Eksplorasi rating per pengguna\")\n",
        "ratings_count_per_user = ratings_df.groupby('userId')['rating'].count()\n",
        "print(f\"Jumlah pengguna yang memberikan rating: {ratings_count_per_user.count()}\")\n",
        "print(f\"Rata-rata rating per pengguna:\\n{ratings_count_per_user.describe()}\")"
      ],
      "metadata": {
        "id": "ReqzHEACNEVR",
        "colab": {
          "base_uri": "https://localhost:8080/"
        },
        "outputId": "ba863839-4b8f-496b-9e53-929444722311"
      },
      "execution_count": 20,
      "outputs": [
        {
          "output_type": "stream",
          "name": "stdout",
          "text": [
            "\n",
            " Eksplorasi rating per pengguna\n",
            "Jumlah pengguna yang memberikan rating: 75\n",
            "Rata-rata rating per pengguna:\n",
            "count     75.000000\n",
            "mean     133.333333\n",
            "std      167.914822\n",
            "min       20.000000\n",
            "25%       31.500000\n",
            "50%       60.000000\n",
            "75%      169.000000\n",
            "max      813.000000\n",
            "Name: rating, dtype: float64\n"
          ]
        }
      ]
    },
    {
      "cell_type": "markdown",
      "source": [
        "# **6. Data Preprocessing**"
      ],
      "metadata": {
        "id": "cpgHfgnSK3ip"
      }
    },
    {
      "cell_type": "markdown",
      "source": [
        "Menggabungkan Data Movies dan Ratings\n",
        "\n",
        "insight: Dataset ratings_df dan movies_df digabungkan berdasarkan kolom movieId menggunakan metode left join, sehingga informasi genre dari dataset film ditambahkan ke dataset rating."
      ],
      "metadata": {
        "id": "P65W--kHNxh0"
      }
    },
    {
      "cell_type": "code",
      "source": [
        "movie_ratings_df = pd.merge(ratings_df, movies_df[['movieId', 'genres']], on='movieId', how='left')"
      ],
      "metadata": {
        "id": "Is-aeSEiNxn6"
      },
      "execution_count": 21,
      "outputs": []
    },
    {
      "cell_type": "markdown",
      "source": [
        "Menampilkan baris awal setelah penggabungan data\n",
        "\n",
        "insight: Setelah penggabungan, data yang ditampilkan meliputi userId, movieId, rating, timestamp, dan genres yang berasal dari kedua dataset tersebut."
      ],
      "metadata": {
        "id": "HzzDlc6wyrw2"
      }
    },
    {
      "cell_type": "code",
      "source": [
        "print(\"\\n Cek data Setelah Penggabungan:\")\n",
        "print(movie_ratings_df.head())"
      ],
      "metadata": {
        "id": "O_zI-2cfybE-",
        "colab": {
          "base_uri": "https://localhost:8080/"
        },
        "outputId": "8e547059-e673-4895-e9e4-4fa7b8a5f468"
      },
      "execution_count": 22,
      "outputs": [
        {
          "output_type": "stream",
          "name": "stdout",
          "text": [
            "\n",
            " Cek data Setelah Penggabungan:\n",
            "   userId  movieId  rating   timestamp                       genres\n",
            "0       1      296     5.0  1147880044  Comedy|Crime|Drama|Thriller\n",
            "1       1      306     3.5  1147868817                        Drama\n",
            "2       1      307     5.0  1147868828                        Drama\n",
            "3       1      665     5.0  1147878820             Comedy|Drama|War\n",
            "4       1      899     3.5  1147868510       Comedy|Musical|Romance\n"
          ]
        }
      ]
    },
    {
      "cell_type": "markdown",
      "source": [
        "Statistik Deskriptif setelah penggabungan data\n",
        "\n",
        "insigth: Menampilkan statistik deskriptif untuk seluruh data setelah penggabungan. Kolom yang terlihat meliputi userId, movieId, rating, timestamp, dan genres. Statistik mencakup jumlah total data (count), nilai rata-rata, standar deviasi, nilai minimum dan maksimum, serta beberapa informasi lainnya.\n",
        "Kolom genres menunjukkan adanya variasi genre yang cukup banyak dengan frekuensi genre tertentu yang lebih sering muncul."
      ],
      "metadata": {
        "id": "Xuc9hdZ7Nxta"
      }
    },
    {
      "cell_type": "code",
      "source": [
        "print(\"\\nStatistik Deskriptif Data:\")\n",
        "print(movie_ratings_df.describe(include='all'))"
      ],
      "metadata": {
        "id": "mm82amZzNxyh",
        "colab": {
          "base_uri": "https://localhost:8080/"
        },
        "outputId": "9364a6f5-7857-4a99-ffea-c713550b4887"
      },
      "execution_count": 23,
      "outputs": [
        {
          "output_type": "stream",
          "name": "stdout",
          "text": [
            "\n",
            "Statistik Deskriptif Data:\n",
            "              userId        movieId        rating     timestamp genres\n",
            "count   10000.000000   10000.000000  10000.000000  1.000000e+04   8194\n",
            "unique           NaN            NaN           NaN           NaN    473\n",
            "top              NaN            NaN           NaN           NaN  Drama\n",
            "freq             NaN            NaN           NaN           NaN    597\n",
            "mean       35.504400   16481.889300      3.599400  1.179452e+09    NaN\n",
            "std        23.782269   31968.753804      1.005321  2.113199e+08    NaN\n",
            "min         1.000000       1.000000      0.500000  8.307862e+08    NaN\n",
            "25%        13.000000    1073.000000      3.000000  9.806502e+08    NaN\n",
            "50%        33.000000    2571.000000      4.000000  1.167743e+09    NaN\n",
            "75%        59.000000    6934.500000      4.000000  1.349690e+09    NaN\n",
            "max        75.000000  203519.000000      5.000000  1.574195e+09    NaN\n"
          ]
        }
      ]
    },
    {
      "cell_type": "markdown",
      "source": [
        "# **7. Data Preparation**"
      ],
      "metadata": {
        "id": "DszQzOK0OjLs"
      }
    },
    {
      "cell_type": "markdown",
      "source": [
        "Cek jumlah missing values\n",
        "\n",
        "insight: memiliki 1806 missing values dan menghapus nilai yang hilang dari dataset menggunakan dropna() dan menyimpannya di movie_ratings_df_cleaned."
      ],
      "metadata": {
        "id": "kOI4GQ-nMgHv"
      }
    },
    {
      "cell_type": "code",
      "source": [
        "print(f\"Jumlah missing values sebelum diisi:\\n{movie_ratings_df.isnull().sum()}\")\n",
        "movie_ratings_df_cleaned = movie_ratings_df.dropna()"
      ],
      "metadata": {
        "id": "VMeb9dZxMgM3",
        "colab": {
          "base_uri": "https://localhost:8080/"
        },
        "outputId": "e7572ee5-acc5-4b06-8e6f-96386e661bb3"
      },
      "execution_count": 24,
      "outputs": [
        {
          "output_type": "stream",
          "name": "stdout",
          "text": [
            "Jumlah missing values sebelum diisi:\n",
            "userId          0\n",
            "movieId         0\n",
            "rating          0\n",
            "timestamp       0\n",
            "genres       1806\n",
            "dtype: int64\n"
          ]
        }
      ]
    },
    {
      "cell_type": "markdown",
      "source": [
        "Cek kembali missing values\n",
        "\n",
        "insight: Setelah menghapus nilai yang hilang, tidak ada lagi nilai hilang pada dataset yang sudah dibersihkan (movie_ratings_df_cleaned)."
      ],
      "metadata": {
        "id": "KfvyiR0TMgfm"
      }
    },
    {
      "cell_type": "code",
      "source": [
        "print(f\"\\nJumlah missing values setelah dihapus:\\n{movie_ratings_df_cleaned.isnull().sum()}\")"
      ],
      "metadata": {
        "id": "Vb1Vx-NfMglw",
        "colab": {
          "base_uri": "https://localhost:8080/"
        },
        "outputId": "76573697-d938-4cd8-b196-2a413ced3081"
      },
      "execution_count": 25,
      "outputs": [
        {
          "output_type": "stream",
          "name": "stdout",
          "text": [
            "\n",
            "Jumlah missing values setelah dihapus:\n",
            "userId       0\n",
            "movieId      0\n",
            "rating       0\n",
            "timestamp    0\n",
            "genres       0\n",
            "dtype: int64\n"
          ]
        }
      ]
    },
    {
      "cell_type": "markdown",
      "source": [
        "Menghapus duplikasi\n",
        "\n",
        "insight: Sebelum menghapus duplikat, dataset movie_ratings_df memiliki 10.000 baris. Proses ini menggunakan drop_duplicates() untuk menghapus duplikat dari dataset dan menyimpannya di movie_ratings_df_cleaned."
      ],
      "metadata": {
        "id": "neC7m_50Mgrd"
      }
    },
    {
      "cell_type": "code",
      "source": [
        "print(f\"\\nJumlah baris sebelum menghapus duplikat: {len(movie_ratings_df)}\")\n",
        "movie_ratings_df_cleaned = movie_ratings_df.drop_duplicates()"
      ],
      "metadata": {
        "id": "X6pbMGmmMgyq",
        "colab": {
          "base_uri": "https://localhost:8080/"
        },
        "outputId": "fb81798e-3661-4bac-a3f2-d16b85d01f10"
      },
      "execution_count": 26,
      "outputs": [
        {
          "output_type": "stream",
          "name": "stdout",
          "text": [
            "\n",
            "Jumlah baris sebelum menghapus duplikat: 10000\n"
          ]
        }
      ]
    },
    {
      "cell_type": "markdown",
      "source": [
        "Cek apakah ada duplikasi setelah dihapus\n",
        "\n",
        "insight: Setelah menghapus duplikat, jumlah baris pada dataset yang sudah dibersihkan tetap 10.000, yang menunjukkan bahwa tidak ada duplikat yang tersisa."
      ],
      "metadata": {
        "id": "KYvaVk5pNHtE"
      }
    },
    {
      "cell_type": "code",
      "source": [
        "print(f\"\\nJumlah baris setelah menghapus duplikat: {len(movie_ratings_df_cleaned)}\")"
      ],
      "metadata": {
        "id": "1DXN258rNHzf",
        "colab": {
          "base_uri": "https://localhost:8080/"
        },
        "outputId": "004b11cc-4d59-4a62-fe59-cff67de1f4ca"
      },
      "execution_count": 27,
      "outputs": [
        {
          "output_type": "stream",
          "name": "stdout",
          "text": [
            "\n",
            "Jumlah baris setelah menghapus duplikat: 10000\n"
          ]
        }
      ]
    },
    {
      "cell_type": "markdown",
      "source": [
        "Tipe data setiap kolomnya\n",
        "\n",
        "insight: Ini memastikan bahwa kolom-kolom yang berisi data numerik (seperti userId, movieId, dan rating) memiliki tipe data yang sesuai."
      ],
      "metadata": {
        "id": "9VeRIkcyXNVg"
      }
    },
    {
      "cell_type": "code",
      "source": [
        "print(\"\\nTipe data dari setiap kolom:\")\n",
        "print(movie_ratings_df.dtypes)\n"
      ],
      "metadata": {
        "id": "tt-A6u2HXNeZ",
        "colab": {
          "base_uri": "https://localhost:8080/"
        },
        "outputId": "467f3004-d0fc-412f-a3da-9cc6e9c914ed"
      },
      "execution_count": 28,
      "outputs": [
        {
          "output_type": "stream",
          "name": "stdout",
          "text": [
            "\n",
            "Tipe data dari setiap kolom:\n",
            "userId         int64\n",
            "movieId        int64\n",
            "rating       float64\n",
            "timestamp      int64\n",
            "genres        object\n",
            "dtype: object\n"
          ]
        }
      ]
    },
    {
      "cell_type": "markdown",
      "source": [
        "Pastikan kolom 'userId', 'movieId', dan 'rating' adalah tipe numerik\n",
        "\n",
        "insight: Tipe data untuk kolom userId, movieId, dan rating dipastikan sesuai dengan tipe numerik yang tepat menggunakan metode .astype(int) untuk userId dan movieId, serta .astype(float) untuk rating."
      ],
      "metadata": {
        "id": "VxssZZ7PNKou"
      }
    },
    {
      "cell_type": "code",
      "source": [
        "movie_ratings_df['userId'] = movie_ratings_df['userId'].astype(int)\n",
        "movie_ratings_df['movieId'] = movie_ratings_df['movieId'].astype(int)\n",
        "movie_ratings_df['rating'] = movie_ratings_df['rating'].astype(float)"
      ],
      "metadata": {
        "id": "jOcwf2HMNKwN"
      },
      "execution_count": 29,
      "outputs": []
    },
    {
      "cell_type": "markdown",
      "source": [
        "- Cek hasil pembersihan data\n",
        "- Statistik deskriptif untuk memahami distribusi data\n",
        "\n",
        "\n",
        "insight: Setelah memastikan tipe data yang benar, data diperiksa dan statistik deskriptif dihitung untuk memahami distribusi data. Data yang ditampilkan mencakup kolom userId, movieId, rating, timestamp, dan genres dengan statistik deskriptif yang mencakup jumlah data, rata-rata, standar deviasi, nilai minimum dan maksimum, serta kuartil pertama dan ketiga."
      ],
      "metadata": {
        "id": "jyNiEU91NVSJ"
      }
    },
    {
      "cell_type": "code",
      "source": [
        "print(\"\\nContoh data setelah pembersihan:\")\n",
        "print(movie_ratings_df.head())\n",
        "print(\"\\nStatistik Deskriptif Data Setelah Pembersihan:\")\n",
        "print(movie_ratings_df.describe(include='all'))"
      ],
      "metadata": {
        "id": "_amHFPpJNVVt",
        "colab": {
          "base_uri": "https://localhost:8080/"
        },
        "outputId": "fe89cbd8-71b3-4613-c0dc-bbaa877f7207"
      },
      "execution_count": 30,
      "outputs": [
        {
          "output_type": "stream",
          "name": "stdout",
          "text": [
            "\n",
            "Contoh data setelah pembersihan:\n",
            "   userId  movieId  rating   timestamp                       genres\n",
            "0       1      296     5.0  1147880044  Comedy|Crime|Drama|Thriller\n",
            "1       1      306     3.5  1147868817                        Drama\n",
            "2       1      307     5.0  1147868828                        Drama\n",
            "3       1      665     5.0  1147878820             Comedy|Drama|War\n",
            "4       1      899     3.5  1147868510       Comedy|Musical|Romance\n",
            "\n",
            "Statistik Deskriptif Data Setelah Pembersihan:\n",
            "              userId        movieId        rating     timestamp genres\n",
            "count   10000.000000   10000.000000  10000.000000  1.000000e+04   8194\n",
            "unique           NaN            NaN           NaN           NaN    473\n",
            "top              NaN            NaN           NaN           NaN  Drama\n",
            "freq             NaN            NaN           NaN           NaN    597\n",
            "mean       35.504400   16481.889300      3.599400  1.179452e+09    NaN\n",
            "std        23.782269   31968.753804      1.005321  2.113199e+08    NaN\n",
            "min         1.000000       1.000000      0.500000  8.307862e+08    NaN\n",
            "25%        13.000000    1073.000000      3.000000  9.806502e+08    NaN\n",
            "50%        33.000000    2571.000000      4.000000  1.167743e+09    NaN\n",
            "75%        59.000000    6934.500000      4.000000  1.349690e+09    NaN\n",
            "max        75.000000  203519.000000      5.000000  1.574195e+09    NaN\n"
          ]
        }
      ]
    },
    {
      "cell_type": "markdown",
      "source": [
        "indeks berdasarkan judul film\n",
        "\n",
        "insight: Secara keseluruhan, langkah ini memastikan bahwa data film diindeks berdasarkan judulnya, dengan duplikat yang dihapus untuk memastikan keunikan data berdasarkan judul film."
      ],
      "metadata": {
        "id": "Q6HJ6AWoXtzM"
      }
    },
    {
      "cell_type": "code",
      "source": [
        "indices = pd.Series(movies_df.index, index=movies_df['title']).drop_duplicates()"
      ],
      "metadata": {
        "id": "0Ma3EblWQdPq"
      },
      "execution_count": 31,
      "outputs": []
    },
    {
      "cell_type": "markdown",
      "source": [
        "## **Modeling**\n"
      ],
      "metadata": {
        "id": "6FyrTPECYy2y"
      }
    },
    {
      "cell_type": "markdown",
      "source": [
        "Menggunakan TfidfVectorizer untuk menghitung representasi genre\n",
        "\n",
        "insight:  proses ini bertujuan untuk mengonversi genre teks dari dataset film menjadi representasi numerik yang dapat digunakan untuk analisis lebih lanjut atau dalam model pembelajaran mesin."
      ],
      "metadata": {
        "id": "WR2ylvpwY5XO"
      }
    },
    {
      "cell_type": "code",
      "source": [
        "tfidf = TfidfVectorizer(stop_words='english')\n",
        "tfidf_matrix = tfidf.fit_transform(movies_df['genres'])\n"
      ],
      "metadata": {
        "id": "UYBwxqkOQZsQ"
      },
      "execution_count": 32,
      "outputs": []
    },
    {
      "cell_type": "markdown",
      "source": [
        "Menghitung cosine similarity antar film\n",
        "\n",
        "insight:  sebuah matriks similiaritas yang menunjukkan seberapa mirip setiap pasangan film berdasarkan genre mereka."
      ],
      "metadata": {
        "id": "bpfJzZYRbED_"
      }
    },
    {
      "cell_type": "code",
      "source": [
        "cosine_sim = cosine_similarity(tfidf_matrix)\n"
      ],
      "metadata": {
        "id": "ijMvzi2wY5dR"
      },
      "execution_count": 33,
      "outputs": []
    },
    {
      "cell_type": "markdown",
      "source": [
        "Membuat DataFrame untuk cosine similarity\n",
        "\n",
        "insight: DataFrame ini menyajikan nilai cosine similarity antara setiap pasangan film dalam bentuk tabel yang lebih mudah dibaca. Contoh data yang acak (5 film pertama) ditampilkan menggunakan sample(5) untuk memberikan gambaran tentang bagaimana film-film saling berhubungan berdasarkan genre mereka. Proses ini menghitung tingkat kesamaan antara film berdasarkan genre mereka, dan hasilnya disajikan dalam bentuk tabel cosine similarity yang memungkinkan untuk melihat film mana yang memiliki genre yang paling mirip dengan film lainnya."
      ],
      "metadata": {
        "id": "RS3wpVMJbJzl"
      }
    },
    {
      "cell_type": "code",
      "source": [
        "cosine_sim_df = pd.DataFrame(cosine_sim, index=movies_df['title'], columns=movies_df['title'])\n"
      ],
      "metadata": {
        "id": "-szVLKwoS7Ws"
      },
      "execution_count": 34,
      "outputs": []
    },
    {
      "cell_type": "code",
      "source": [
        "cosine_sim_df = cosine_sim_df * 100\n",
        "cosine_sim_df = cosine_sim_df.round(0).astype(int)\n",
        "print('Shape:', cosine_sim_df.shape)\n",
        "print(\"\\nContoh cosine similarity (5 film acak):\")\n",
        "print(cosine_sim_df.sample(5, axis=1).sample(10, axis=0))"
      ],
      "metadata": {
        "id": "uZlFR1teRY40",
        "colab": {
          "base_uri": "https://localhost:8080/"
        },
        "outputId": "8e22f20f-b360-479a-c48f-75a49c3ff78d"
      },
      "execution_count": 35,
      "outputs": [
        {
          "output_type": "stream",
          "name": "stdout",
          "text": [
            "Shape: (10000, 10000)\n",
            "\n",
            "Contoh cosine similarity (5 film acak):\n",
            "title                                               Sphinx (1981)  \\\n",
            "title                                                               \n",
            "Horror Planet (a.k.a. Inseminoid) (1981)                        0   \n",
            "Sleepless in Seattle (1993)                                     0   \n",
            "8 Seconds (1994)                                                0   \n",
            "Kiss of the Spider Woman (1985)                                 0   \n",
            "Bangkok Dangerous (2000)                                        0   \n",
            "Africa Screams (1949)                                           0   \n",
            "Return of the Street Fighter (Satsujin ken 2) (...              0   \n",
            "Fade to Black (2004)                                            0   \n",
            "Tanguy (2001)                                                   0   \n",
            "Avanti! (1972)                                                  0   \n",
            "\n",
            "title                                               Mother Night (1996)  \\\n",
            "title                                                                     \n",
            "Horror Planet (a.k.a. Inseminoid) (1981)                             24   \n",
            "Sleepless in Seattle (1993)                                          44   \n",
            "8 Seconds (1994)                                                    100   \n",
            "Kiss of the Spider Woman (1985)                                     100   \n",
            "Bangkok Dangerous (2000)                                              0   \n",
            "Africa Screams (1949)                                                 0   \n",
            "Return of the Street Fighter (Satsujin ken 2) (...                   36   \n",
            "Fade to Black (2004)                                                  0   \n",
            "Tanguy (2001)                                                         0   \n",
            "Avanti! (1972)                                                       63   \n",
            "\n",
            "title                                               Constantine (2005)  \\\n",
            "title                                                                    \n",
            "Horror Planet (a.k.a. Inseminoid) (1981)                            43   \n",
            "Sleepless in Seattle (1993)                                          0   \n",
            "8 Seconds (1994)                                                     0   \n",
            "Kiss of the Spider Woman (1985)                                      0   \n",
            "Bangkok Dangerous (2000)                                            26   \n",
            "Africa Screams (1949)                                                0   \n",
            "Return of the Street Fighter (Satsujin ken 2) (...                  29   \n",
            "Fade to Black (2004)                                                 0   \n",
            "Tanguy (2001)                                                        0   \n",
            "Avanti! (1972)                                                       0   \n",
            "\n",
            "title                                               Without a Paddle (2004)  \\\n",
            "title                                                                         \n",
            "Horror Planet (a.k.a. Inseminoid) (1981)                                  0   \n",
            "Sleepless in Seattle (1993)                                              54   \n",
            "8 Seconds (1994)                                                          0   \n",
            "Kiss of the Spider Woman (1985)                                           0   \n",
            "Bangkok Dangerous (2000)                                                  0   \n",
            "Africa Screams (1949)                                                    52   \n",
            "Return of the Street Fighter (Satsujin ken 2) (...                        0   \n",
            "Fade to Black (2004)                                                      0   \n",
            "Tanguy (2001)                                                           100   \n",
            "Avanti! (1972)                                                           77   \n",
            "\n",
            "title                                               Breathless (1983)  \n",
            "title                                                                  \n",
            "Horror Planet (a.k.a. Inseminoid) (1981)                           32  \n",
            "Sleepless in Seattle (1993)                                        52  \n",
            "8 Seconds (1994)                                                   32  \n",
            "Kiss of the Spider Woman (1985)                                    32  \n",
            "Bangkok Dangerous (2000)                                           61  \n",
            "Africa Screams (1949)                                               0  \n",
            "Return of the Street Fighter (Satsujin ken 2) (...                 48  \n",
            "Fade to Black (2004)                                                0  \n",
            "Tanguy (2001)                                                       0  \n",
            "Avanti! (1972)                                                     20  \n"
          ]
        }
      ]
    },
    {
      "cell_type": "markdown",
      "source": [
        "Sistem Rekomendasi\n",
        "\n",
        "insight: Rekomendasi film ditampilkan bersama dengan genre mereka."
      ],
      "metadata": {
        "id": "UUPU4uoea6kh"
      }
    },
    {
      "cell_type": "code",
      "source": [
        "def recommend(title, cosine_sim=cosine_sim, df=movies_df):\n",
        "    if title not in indices:\n",
        "        print(f\"Judul '{title}' tidak ditemukan.\")\n",
        "        return\n",
        "\n",
        "    idx = indices[title]\n",
        "    sim_scores = list(enumerate(cosine_sim[idx]))\n",
        "    sim_scores = sorted(sim_scores, key=lambda x: x[1], reverse=True)[1:11]\n",
        "    movie_indices = [i[0] for i in sim_scores]\n",
        "    recommended_movies = df.iloc[movie_indices][['title', 'genres']].copy()\n",
        "    recommended_movies.reset_index(drop=True, inplace=True)\n",
        "    recommended_movies.index += 1\n",
        "\n",
        "    print(f\"\\nRekomendasi film mirip dengan: '{title}':\\n\")\n",
        "    return recommended_movies"
      ],
      "metadata": {
        "id": "RRqD0wv1Rqru"
      },
      "execution_count": 36,
      "outputs": []
    },
    {
      "cell_type": "markdown",
      "source": [
        "Rekomendasi Film\n",
        "\n",
        "insight: Hasilnya menampilkan 10 film yang memiliki kemiripan genre tertinggi. Fungsi ini memberikan rekomendasi film berdasarkan genre yang mirip dengan film yang dicari, menggunakan cosine similarity untuk mengukur kemiripan antar film. Output yang diberikan adalah daftar film yang mirip beserta genre mereka."
      ],
      "metadata": {
        "id": "MnlX0uBda4Hy"
      }
    },
    {
      "cell_type": "code",
      "source": [
        "recommendations = recommend(\"Snow Day (2000)\")\n",
        "print(recommendations)"
      ],
      "metadata": {
        "id": "9DOSEeoUSmgd",
        "colab": {
          "base_uri": "https://localhost:8080/"
        },
        "outputId": "390e8386-c7e5-4f6c-bc7e-df35b40a37a2"
      },
      "execution_count": 37,
      "outputs": [
        {
          "output_type": "stream",
          "name": "stdout",
          "text": [
            "\n",
            "Rekomendasi film mirip dengan: 'Snow Day (2000)':\n",
            "\n",
            "                                                title  genres\n",
            "1                                   Four Rooms (1995)  Comedy\n",
            "2               Ace Ventura: When Nature Calls (1995)  Comedy\n",
            "3                                     Bio-Dome (1996)  Comedy\n",
            "4                                       Friday (1995)  Comedy\n",
            "5                                  Black Sheep (1996)  Comedy\n",
            "6                                    Mr. Wrong (1996)  Comedy\n",
            "7                                Happy Gilmore (1996)  Comedy\n",
            "8   Happiness Is in the Field (Bonheur est dans le...  Comedy\n",
            "9                      Steal Big, Steal Little (1995)  Comedy\n",
            "10                      Flirting With Disaster (1996)  Comedy\n"
          ]
        }
      ]
    },
    {
      "cell_type": "markdown",
      "source": [
        "# **9. Evaluasi**\n"
      ],
      "metadata": {
        "id": "dXEI4QObJtBp"
      }
    },
    {
      "cell_type": "markdown",
      "source": [
        "Nilai Precision nya\n",
        "\n",
        "insight: Fungsi ini menghitung dan menampilkan nilai precision dari rekomendasi film berdasarkan threshold cosine similarity. Hasil precision 1.00 berarti bahwa semua rekomendasi film untuk \"Snow Day (2000)\" relevan."
      ],
      "metadata": {
        "id": "LzTn5rqGZexC"
      }
    },
    {
      "cell_type": "code",
      "source": [
        "def calculate_precision_for_recommendation(title, cosine_sim=cosine_sim, df=movies_df, threshold=0.5):\n",
        "    if title not in indices:\n",
        "        print(f\"Judul '{title}' tidak ditemukan.\")\n",
        "        return 0\n",
        "\n",
        "    idx = indices[title]\n",
        "    sim_scores = list(enumerate(cosine_sim[idx]))\n",
        "    sim_scores = sorted(sim_scores, key=lambda x: x[1], reverse=True)[1:11]\n",
        "\n",
        "    relevant_recommendations = sum([1 for score in sim_scores if score[1] > threshold])\n",
        "    total_recommendations = len(sim_scores)\n",
        "    precision = relevant_recommendations / total_recommendations if total_recommendations > 0 else 0\n",
        "\n",
        "    return precision\n",
        "\n",
        "title = \"Snow Day (2000)\"\n",
        "precision = calculate_precision_for_recommendation(title, cosine_sim=cosine_sim, df=movies_df, threshold=0.5)\n",
        "\n",
        "print(f\"Precision untuk rekomendasi film mirip dengan '{title}': {precision:.2f}\")"
      ],
      "metadata": {
        "id": "ABen6mvYZe2b",
        "colab": {
          "base_uri": "https://localhost:8080/"
        },
        "outputId": "f1e3387b-f7e8-475c-ecf7-47fda6503ba4"
      },
      "execution_count": 38,
      "outputs": [
        {
          "output_type": "stream",
          "name": "stdout",
          "text": [
            "Precision untuk rekomendasi film mirip dengan 'Snow Day (2000)': 1.00\n"
          ]
        }
      ]
    }
  ]
}